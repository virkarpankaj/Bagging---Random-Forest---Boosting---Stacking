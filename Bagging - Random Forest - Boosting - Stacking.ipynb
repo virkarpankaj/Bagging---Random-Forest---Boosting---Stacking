{
 "cells": [
  {
   "cell_type": "markdown",
   "id": "f7965650",
   "metadata": {},
   "source": [
    "Ways to measure the accuracy we use  - to judge how good the model is \n",
    "\n",
    "1.Training data & Test Data - we used to divide data in training & testing & testing, while creating model we used training \n",
    "\n",
    "& while predicting we used testing data. based on accuracy of two we came to know how good the model is \n",
    "\n",
    "\n",
    "\n",
    "2.Cross Validation:\n",
    "\n",
    "divide the data in parts - - upto you how many parts you want  - KFOLD - no of split\n",
    "\n",
    "Exact division of rows - no repetition \n",
    "\n",
    "eg Data - Data1,  Data2, Data3, Data4, Data5\n",
    "\n",
    "model1: Data1,  Data2, Data3, Data4  :::: Tested - Data5     # Accuracy =92\n",
    "\n",
    "model2: Data1,  Data2, Data3, Data5  :::: Tested - Data4     # Accuracy =90\n",
    "\n",
    "model3: Data1,  Data2, Data4, Data5  :::: Tested - Data3     # Accuracy =88\n",
    "\n",
    "model4: Data1,  Data3, Data4, Data5  :::: Tested - Data2     # Accuracy =82\n",
    "\n",
    "model5: Data2,  Data3, Data4, Data5  :::: Tested - Data1     # Accuracy =80\n",
    "    \n",
    "overall accuracy ( takes the average)= (92+90+88+82+80)/5"
   ]
  },
  {
   "cell_type": "markdown",
   "id": "5b9b86ac",
   "metadata": {},
   "source": [
    "model1 RF or Bagging Model is created by further dividing data :\n",
    "\n",
    "i.e model1: Data1,  Data2, Data3, Data4  :::: Tested - Data5     # Accuracy =92\n",
    "\n",
    "model1 : Training Data1,  Data2, Data3, Data4\n",
    "\n",
    "* Now for RF : out of this data - select random columns to create the DTs\n",
    "* for Bagging : out of this data - select random rows to create the DTs\n",
    "\n",
    "Kfold & cross val is for splitting the data "
   ]
  },
  {
   "cell_type": "code",
   "execution_count": null,
   "id": "5084fc5e",
   "metadata": {},
   "outputs": [],
   "source": []
  },
  {
   "cell_type": "code",
   "execution_count": null,
   "id": "d38f18ba",
   "metadata": {},
   "outputs": [],
   "source": []
  },
  {
   "cell_type": "code",
   "execution_count": 1,
   "id": "34046959",
   "metadata": {},
   "outputs": [],
   "source": [
    "import pandas as pd\n",
    "import numpy as np\n",
    "import matplotlib.pyplot as plt\n",
    "%matplotlib inline\n",
    "\n",
    "import seaborn as sns\n",
    "sns.set()"
   ]
  },
  {
   "cell_type": "code",
   "execution_count": 2,
   "id": "f8e38721",
   "metadata": {},
   "outputs": [],
   "source": [
    "import warnings\n",
    "warnings.filterwarnings('ignore')"
   ]
  },
  {
   "cell_type": "code",
   "execution_count": 3,
   "id": "a2db5814",
   "metadata": {},
   "outputs": [],
   "source": [
    "# dividing the data to create the multiple Decision Tree\n",
    "\n",
    "from sklearn.model_selection import KFold\n",
    "from sklearn.model_selection import cross_val_score"
   ]
  },
  {
   "cell_type": "code",
   "execution_count": 4,
   "id": "7df1624a",
   "metadata": {},
   "outputs": [],
   "source": [
    "# Decision Tree\n",
    "from sklearn.tree import DecisionTreeClassifier\n",
    "\n",
    "#######   Ensemble Technique    #######\n",
    "\n",
    "# for Bagging\n",
    "from sklearn.ensemble import BaggingClassifier\n",
    "\n",
    "# for Random Forest\n",
    "from sklearn.ensemble import RandomForestClassifier\n",
    "\n",
    "# for Boosting \n",
    "from sklearn.ensemble import AdaBoostClassifier\n",
    "\n",
    "#for voting \n",
    "from sklearn.ensemble import VotingClassifier"
   ]
  },
  {
   "cell_type": "code",
   "execution_count": null,
   "id": "40b780be",
   "metadata": {},
   "outputs": [],
   "source": []
  },
  {
   "cell_type": "code",
   "execution_count": 6,
   "id": "6fa32981",
   "metadata": {},
   "outputs": [],
   "source": [
    "filename = 'pima-indians-diabetes.data.csv'\n",
    "column_names = ['preg', 'plas', 'pres', 'skin', 'test', 'mass', 'pedi', 'age', 'class']\n",
    "\n",
    "pima = pd.read_csv(filename,names=column_names)"
   ]
  },
  {
   "cell_type": "code",
   "execution_count": null,
   "id": "aea6fcf1",
   "metadata": {},
   "outputs": [],
   "source": [
    "pima.head()"
   ]
  },
  {
   "cell_type": "code",
   "execution_count": 7,
   "id": "3c27d48b",
   "metadata": {},
   "outputs": [],
   "source": [
    "x = pima.iloc[:,0:8]\n",
    "y = pima['class']"
   ]
  },
  {
   "cell_type": "code",
   "execution_count": 8,
   "id": "d74aa6b3",
   "metadata": {},
   "outputs": [],
   "source": [
    "# data is divided in 10 parts - 10 models\n",
    "\n",
    "kfold = KFold(n_splits=10)"
   ]
  },
  {
   "cell_type": "code",
   "execution_count": 9,
   "id": "97fad313",
   "metadata": {},
   "outputs": [],
   "source": [
    "# creating the decision Tree Model - Base Model - On Top of it we create Bagging,Random Forest\n",
    "\n",
    "d_tree = DecisionTreeClassifier()"
   ]
  },
  {
   "cell_type": "code",
   "execution_count": null,
   "id": "090ff0e4",
   "metadata": {},
   "outputs": [],
   "source": [
    "\n"
   ]
  },
  {
   "cell_type": "code",
   "execution_count": null,
   "id": "0d71684a",
   "metadata": {},
   "outputs": [],
   "source": []
  },
  {
   "cell_type": "markdown",
   "id": "04ebd87d",
   "metadata": {},
   "source": [
    "## Bagged Decision Trees for Classification\n",
    "\n",
    "    * Same Training Data - Divide equally ( accuracy of all model should not be same likewise divide)\n",
    "    * Randomly Select the rows - sample with repetition\n",
    "    * Create Multiple DT Model \n",
    "    * Compare all DT for result - By Voting\n",
    "    "
   ]
  },
  {
   "cell_type": "code",
   "execution_count": 10,
   "id": "efe7fdef",
   "metadata": {},
   "outputs": [],
   "source": [
    "# creating a Bagging Model\n",
    "n_trees = 100\n",
    "model_bagging = BaggingClassifier(base_estimator = d_tree,\n",
    "                                  n_estimators = n_trees,\n",
    "                                  max_samples = 0.8,\n",
    "                                  random_state = 8)"
   ]
  },
  {
   "cell_type": "code",
   "execution_count": 11,
   "id": "603ad34b",
   "metadata": {},
   "outputs": [],
   "source": [
    "# finding the Cross Validation Score of all the models\n",
    "\n",
    "results_bag = cross_val_score(model_bagging, x, y, cv = kfold)"
   ]
  },
  {
   "cell_type": "code",
   "execution_count": 12,
   "id": "7e7d3996",
   "metadata": {},
   "outputs": [
    {
     "data": {
      "text/plain": [
       "array([0.67532468, 0.84415584, 0.72727273, 0.63636364, 0.80519481,\n",
       "       0.80519481, 0.85714286, 0.83116883, 0.71052632, 0.73684211])"
      ]
     },
     "execution_count": 12,
     "metadata": {},
     "output_type": "execute_result"
    }
   ],
   "source": [
    "# we will get the 10 accuracy for 10 models - 10 fold/ 10 split - 10 DT Model\n",
    "results_bag"
   ]
  },
  {
   "cell_type": "code",
   "execution_count": 13,
   "id": "4e18f4c9",
   "metadata": {},
   "outputs": [
    {
     "name": "stdout",
     "output_type": "stream",
     "text": [
      "0.7629186602870812\n"
     ]
    }
   ],
   "source": [
    "print(results_bag.mean())"
   ]
  },
  {
   "cell_type": "code",
   "execution_count": null,
   "id": "19f90440",
   "metadata": {},
   "outputs": [],
   "source": []
  },
  {
   "cell_type": "markdown",
   "id": "69dee8a6",
   "metadata": {},
   "source": [
    "## Random Forest Decision Trees for Classification\n",
    "\n",
    "    * Same Training Data - Divide equally ( accuracy of all model should not be same likewise divide)\n",
    "    * Randomly Select the COLUMNS - sample with no repetition\n",
    "    * no of columns = no of features - generally (total features/3)\n",
    "    * Create Multiple DT Model \n",
    "    * Compare all DT for result - By Voting\n",
    "    "
   ]
  },
  {
   "cell_type": "code",
   "execution_count": 14,
   "id": "490f3dd2",
   "metadata": {},
   "outputs": [],
   "source": [
    "# RF Model Frame\n",
    "n_trees = 100\n",
    "\n",
    "model_rf = RandomForestClassifier(n_estimators=n_trees,\n",
    "                                  max_features=3,\n",
    "                                  random_state=8)"
   ]
  },
  {
   "cell_type": "code",
   "execution_count": 15,
   "id": "09688b45",
   "metadata": {},
   "outputs": [
    {
     "data": {
      "text/plain": [
       "array([0.7012987 , 0.84415584, 0.75324675, 0.66233766, 0.80519481,\n",
       "       0.80519481, 0.85714286, 0.85714286, 0.69736842, 0.77631579])"
      ]
     },
     "execution_count": 15,
     "metadata": {},
     "output_type": "execute_result"
    }
   ],
   "source": [
    "# calculating the Cross Validation score - accuracy of Created DT - 10 nos\n",
    "\n",
    "result_rf = cross_val_score(model_rf, x, y, cv = kfold)\n",
    "result_rf"
   ]
  },
  {
   "cell_type": "code",
   "execution_count": 16,
   "id": "9c144f5a",
   "metadata": {},
   "outputs": [
    {
     "name": "stdout",
     "output_type": "stream",
     "text": [
      "0.7759398496240603\n"
     ]
    }
   ],
   "source": [
    "print(result_rf.mean())"
   ]
  },
  {
   "cell_type": "markdown",
   "id": "cd0cab72",
   "metadata": {},
   "source": [
    "### By Random Forest getting feature importance \n"
   ]
  },
  {
   "cell_type": "code",
   "execution_count": 17,
   "id": "4377967f",
   "metadata": {},
   "outputs": [
    {
     "data": {
      "text/plain": [
       "RandomForestClassifier(max_features=3, random_state=8)"
      ]
     },
     "execution_count": 17,
     "metadata": {},
     "output_type": "execute_result"
    }
   ],
   "source": [
    "# creating  a model\n",
    "model_rf.fit(x,y)"
   ]
  },
  {
   "cell_type": "code",
   "execution_count": 18,
   "id": "12fff750",
   "metadata": {},
   "outputs": [
    {
     "data": {
      "text/plain": [
       "array([0.07297682, 0.28504742, 0.08337574, 0.06069903, 0.06118524,\n",
       "       0.17498092, 0.12582072, 0.13591412])"
      ]
     },
     "execution_count": 18,
     "metadata": {},
     "output_type": "execute_result"
    }
   ],
   "source": [
    "# GETTING  feature importance \n",
    "\n",
    "model_rf.feature_importances_"
   ]
  },
  {
   "cell_type": "code",
   "execution_count": 19,
   "id": "18db2d6a",
   "metadata": {},
   "outputs": [
    {
     "data": {
      "text/plain": [
       "array(['preg', 'plas', 'pres', 'skin', 'test', 'mass', 'pedi', 'age'],\n",
       "      dtype=object)"
      ]
     },
     "execution_count": 19,
     "metadata": {},
     "output_type": "execute_result"
    }
   ],
   "source": [
    "model_rf.feature_names_in_"
   ]
  },
  {
   "cell_type": "code",
   "execution_count": null,
   "id": "6626b262",
   "metadata": {},
   "outputs": [],
   "source": [
    "# these are the important features "
   ]
  },
  {
   "cell_type": "markdown",
   "id": "89711d62",
   "metadata": {},
   "source": [
    "## Boosting Decision Trees for Classification\n",
    "\n",
    "    * Eg. final exam - preliminary exam taken to know where we are\n",
    "    * m1 - m2 - m3 at each stage we improve model by reducing the \n",
    "    * loss = weightage x indicator \n",
    "    * new wt = old wt x e ^( learning rate x E)\n",
    "    * E = 0.5 log[(1-loss)/loss]"
   ]
  },
  {
   "cell_type": "code",
   "execution_count": 20,
   "id": "e818867e",
   "metadata": {},
   "outputs": [],
   "source": [
    "n_trees = 10\n",
    "\n",
    "model_boost = AdaBoostClassifier(base_estimator=d_tree,\n",
    "                                 n_estimators=n_trees,\n",
    "                                 learning_rate=1,\n",
    "                                 random_state=7)\n",
    "\n",
    "results_boost = cross_val_score(model_boost, x, y, cv = kfold)"
   ]
  },
  {
   "cell_type": "code",
   "execution_count": 21,
   "id": "fa6f61ff",
   "metadata": {},
   "outputs": [
    {
     "data": {
      "text/plain": [
       "array([0.64935065, 0.76623377, 0.67532468, 0.61038961, 0.68831169,\n",
       "       0.75324675, 0.72727273, 0.79220779, 0.64473684, 0.65789474])"
      ]
     },
     "execution_count": 21,
     "metadata": {},
     "output_type": "execute_result"
    }
   ],
   "source": [
    "results_boost"
   ]
  },
  {
   "cell_type": "code",
   "execution_count": 22,
   "id": "b64aea54",
   "metadata": {},
   "outputs": [
    {
     "name": "stdout",
     "output_type": "stream",
     "text": [
      "0.6964969241285031\n"
     ]
    }
   ],
   "source": [
    "print(results_boost.mean())"
   ]
  },
  {
   "cell_type": "code",
   "execution_count": null,
   "id": "f069bc77",
   "metadata": {},
   "outputs": [],
   "source": []
  },
  {
   "cell_type": "markdown",
   "id": "1ee935ad",
   "metadata": {
    "heading_collapsed": true
   },
   "source": [
    "## Stacking \n",
    "\n",
    "    * Multiple Model\n",
    "    * Model can be - from DT,Logistic regression, RF,Bagging,boosting SVM\n",
    "    * Majority is selected"
   ]
  },
  {
   "cell_type": "code",
   "execution_count": 24,
   "id": "db84d68c",
   "metadata": {
    "hidden": true
   },
   "outputs": [],
   "source": [
    "from sklearn.svm import SVC\n",
    "\n",
    "from sklearn.linear_model import LogisticRegression"
   ]
  },
  {
   "cell_type": "code",
   "execution_count": 25,
   "id": "60c0bfd9",
   "metadata": {
    "hidden": true
   },
   "outputs": [],
   "source": [
    "# create the sub models\n",
    "\n",
    "estimators = []\n",
    "\n",
    "model1 = LogisticRegression(max_iter=500)\n",
    "estimators.append(('logistic',model1))\n",
    "\n",
    "model2 = DecisionTreeClassifier()\n",
    "estimators.append(('DecisionTree',model2))\n",
    "\n",
    "model3 = SVC()\n",
    "estimators.append(('SVM',model3))"
   ]
  },
  {
   "cell_type": "code",
   "execution_count": 26,
   "id": "999d6dc1",
   "metadata": {
    "hidden": true
   },
   "outputs": [],
   "source": [
    "# create the ensemble model\n",
    "ensemble = VotingClassifier(estimators)"
   ]
  },
  {
   "cell_type": "code",
   "execution_count": 28,
   "id": "534bdafb",
   "metadata": {
    "hidden": true
   },
   "outputs": [],
   "source": [
    "result_voting = cross_val_score(ensemble,x,y,cv=kfold)"
   ]
  },
  {
   "cell_type": "code",
   "execution_count": 29,
   "id": "6fe33ccf",
   "metadata": {
    "hidden": true
   },
   "outputs": [
    {
     "data": {
      "text/plain": [
       "array([0.63636364, 0.81818182, 0.72727273, 0.66233766, 0.79220779,\n",
       "       0.80519481, 0.84415584, 0.85714286, 0.76315789, 0.77631579])"
      ]
     },
     "execution_count": 29,
     "metadata": {},
     "output_type": "execute_result"
    }
   ],
   "source": [
    "result_voting"
   ]
  },
  {
   "cell_type": "code",
   "execution_count": 30,
   "id": "fcf6df70",
   "metadata": {
    "hidden": true
   },
   "outputs": [
    {
     "data": {
      "text/plain": [
       "0.7682330827067669"
      ]
     },
     "execution_count": 30,
     "metadata": {},
     "output_type": "execute_result"
    }
   ],
   "source": [
    "result_voting.mean()"
   ]
  },
  {
   "cell_type": "code",
   "execution_count": null,
   "id": "68c11866",
   "metadata": {
    "hidden": true
   },
   "outputs": [],
   "source": []
  },
  {
   "cell_type": "code",
   "execution_count": null,
   "id": "2d214b00",
   "metadata": {
    "hidden": true
   },
   "outputs": [],
   "source": []
  },
  {
   "cell_type": "code",
   "execution_count": null,
   "id": "113b7fec",
   "metadata": {
    "hidden": true
   },
   "outputs": [],
   "source": []
  }
 ],
 "metadata": {
  "kernelspec": {
   "display_name": "Python 3 (ipykernel)",
   "language": "python",
   "name": "python3"
  },
  "language_info": {
   "codemirror_mode": {
    "name": "ipython",
    "version": 3
   },
   "file_extension": ".py",
   "mimetype": "text/x-python",
   "name": "python",
   "nbconvert_exporter": "python",
   "pygments_lexer": "ipython3",
   "version": "3.9.7"
  },
  "varInspector": {
   "cols": {
    "lenName": 16,
    "lenType": 16,
    "lenVar": 40
   },
   "kernels_config": {
    "python": {
     "delete_cmd_postfix": "",
     "delete_cmd_prefix": "del ",
     "library": "var_list.py",
     "varRefreshCmd": "print(var_dic_list())"
    },
    "r": {
     "delete_cmd_postfix": ") ",
     "delete_cmd_prefix": "rm(",
     "library": "var_list.r",
     "varRefreshCmd": "cat(var_dic_list()) "
    }
   },
   "types_to_exclude": [
    "module",
    "function",
    "builtin_function_or_method",
    "instance",
    "_Feature"
   ],
   "window_display": false
  }
 },
 "nbformat": 4,
 "nbformat_minor": 5
}
